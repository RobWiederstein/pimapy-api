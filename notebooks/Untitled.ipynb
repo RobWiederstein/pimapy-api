{
 "cells": [
  {
   "cell_type": "code",
   "execution_count": 2,
   "id": "0c62b2a3-72b6-429e-bcaa-e2dfc39aef56",
   "metadata": {},
   "outputs": [
    {
     "name": "stdout",
     "output_type": "stream",
     "text": [
      "�PNG\n",
      "\u001a\n",
      "7�`��׷Ç\u000f�\u001f\u0011\u0000��\u0002&}��ӳgϰ�hU��5k�cware\u0000Matplotlib version3.10.3, https://matplotlib.org/f%��\u0000\u0000\u0000\tpHYs\u0000\u0000\u000fa\u0000\u0000\u000fa\u0001�?�i\u0000\u0000[6IDATx���\t�������4M�n*�K!EH;mTd����*��ג�N�K�B+����B�P\tEhӦ}ߦ���������3g��iΜ9s����0�s�9�9�:���?�\u0016\u0004\u0002\u0006\u0000\u0000\u0000�(\u0010�\u0002\u0000\u0000\u0000 w\u0011\u0000\u0002\u0000\u0000�\f",
      "\u0001 \u0000\u0000��\u0010\u0000\u0002\u0000\u0000�\f",
      "\u0001 \u0000\u0000��\u0010\u0000\"����������cƌq���_[^�o�>���;�Z�j\u0016\u001f\u001fo5jԈv��s���[��X2{�l�]�7o^���/�T���z�j�*�\u0018�<�H�<7d�\n",
      "\u001ad�������G\u0004�>T�H\u0011���\u000fl׮]i�1c����1�I߾}��wߵw�y�\u001e",
      "x�\u0001۹s��q�\u001d",
      "v�m�E���>�v�i��3�X�\u001e",
      "=��.��������]`�-���`��\u0001��k��C\u000f=d�\u001f���\u0005\u0017\\`~�l�2�>}�Ŋ�>��~��'�׿���Z=\u0005�_�k�&O���q����_�޺w�nE�\u0016��z�Q\u0000����jP[�Z5���+��G\u001f�C�\u000e��h!h��W_}�E�\u0003ݺus���W�\u001c",
      "s�UW\u0005�U�\u00168��s\u0003���\u0011)GϞ=��g��ѣ����d��w�}7��;vT�T)\u0010\u0017\u0017\u0017ظqc '�ܹ3���5k\u0006Z�j\u0015�i\u0007\u000f\u001e",
      "\f",
      "�߿?�\u001f7�\u001d",
      "8p p�i��:;nܸ�ǬY�&p�}�\u0005�$��K۶m\u0003�j�\n",
      "\u001b�N��~��\u0015+V�\u001d",
      "�/�N�j��\u0010��fɒ%�\u0004��Y��V\u0003����W�^�5�#G�t����߻\u0013kNQ��5�j8�� C�\f",
      "q'@��F�/��>}���\u0011\u001a<�Y��\u0005��_~�=��\u0013�q։�v�ڮKJ���\u001aQ�$�M�\u000f�B��x�ֻwoא��R�=����n\u000f7�B�1:��\u0018\u0005f�\u0012Ν;׆1bz_�6m�ʠ.ڛo�����k��z3k�,�رc�1a������d��ɸq�\\ۡ:��P\u0016�s���3��]��=�\u001e",
      "O���}Æ�\u001c",
      "g�q����+�,���lݺ�n��&;�\u0013���}�]J��̙3���\u001fw����\n"
     ]
    }
   ],
   "source": [
    "!head -n5 ../data/08_reporting/plt/comparison_cv_scores_plot.svg"
   ]
  },
  {
   "cell_type": "code",
   "execution_count": 3,
   "id": "9e1c18f7-a639-4c08-b26e-e29b019d73f1",
   "metadata": {},
   "outputs": [
    {
     "name": "stdout",
     "output_type": "stream",
     "text": [
      "b'\\x89PNG\\r\\n\\x1a\\n'\n"
     ]
    }
   ],
   "source": [
    "with open(\"../data/08_reporting/plt/comparison_cv_scores_plot.svg\", \"rb\") as f:\n",
    "    header = f.read(8)\n",
    "print(header)"
   ]
  },
  {
   "cell_type": "code",
   "execution_count": null,
   "id": "9ad29a46-179f-472d-a5b8-a6863ab0b264",
   "metadata": {},
   "outputs": [],
   "source": []
  }
 ],
 "metadata": {
  "kernelspec": {
   "display_name": "Python (kedro312)",
   "language": "python",
   "name": "kedro312"
  },
  "language_info": {
   "codemirror_mode": {
    "name": "ipython",
    "version": 3
   },
   "file_extension": ".py",
   "mimetype": "text/x-python",
   "name": "python",
   "nbconvert_exporter": "python",
   "pygments_lexer": "ipython3",
   "version": "3.12.9"
  }
 },
 "nbformat": 4,
 "nbformat_minor": 5
}
