{
 "cells": [
  {
   "cell_type": "code",
   "execution_count": 1,
   "id": "7ec4d545-3408-4e5f-b54c-a19a02c18f4a",
   "metadata": {},
   "outputs": [],
   "source": [
    "from typing import Dict, List, Optional\n",
    "import numpy as np\n",
    "import pandas as pd\n",
    "from datetime import datetime\n",
    "from typing import Tuple, Dict, Any\n",
    "import pandas as pd\n",
    "import matplotlib.pyplot as plt\n",
    "import seaborn as sns\n",
    "from sklearn.pipeline import Pipeline\n",
    "from sklearn.preprocessing import StandardScaler\n",
    "from sklearn.linear_model import LogisticRegression\n",
    "from sklearn.model_selection import GridSearchCV\n",
    "from sklearn.ensemble import RandomForestClassifier\n",
    "from sklearn.metrics import (\n",
    "    accuracy_score,\n",
    "    roc_auc_score,\n",
    "    precision_score,\n",
    "    recall_score,\n",
    "    f1_score,\n",
    "    matthews_corrcoef,\n",
    "    balanced_accuracy_score,\n",
    "    confusion_matrix\n",
    ")"
   ]
  },
  {
   "cell_type": "code",
   "execution_count": 2,
   "id": "e57cbd64-f20e-4479-84d3-18e77b3ee63a",
   "metadata": {},
   "outputs": [
    {
     "data": {
      "text/html": [
       "<pre style=\"white-space:pre;overflow-x:auto;line-height:normal;font-family:Menlo,'DejaVu Sans Mono',consolas,'Courier New',monospace\"></pre>\n"
      ],
      "text/plain": []
     },
     "metadata": {},
     "output_type": "display_data"
    },
    {
     "data": {
      "text/html": [
       "<div>\n",
       "<style scoped>\n",
       "    .dataframe tbody tr th:only-of-type {\n",
       "        vertical-align: middle;\n",
       "    }\n",
       "\n",
       "    .dataframe tbody tr th {\n",
       "        vertical-align: top;\n",
       "    }\n",
       "\n",
       "    .dataframe thead th {\n",
       "        text-align: right;\n",
       "    }\n",
       "</style>\n",
       "<table border=\"1\" class=\"dataframe\">\n",
       "  <thead>\n",
       "    <tr style=\"text-align: right;\">\n",
       "      <th></th>\n",
       "      <th>outcome</th>\n",
       "    </tr>\n",
       "  </thead>\n",
       "  <tbody>\n",
       "    <tr>\n",
       "      <th>0</th>\n",
       "      <td>0.0</td>\n",
       "    </tr>\n",
       "    <tr>\n",
       "      <th>1</th>\n",
       "      <td>0.0</td>\n",
       "    </tr>\n",
       "    <tr>\n",
       "      <th>2</th>\n",
       "      <td>0.0</td>\n",
       "    </tr>\n",
       "    <tr>\n",
       "      <th>3</th>\n",
       "      <td>1.0</td>\n",
       "    </tr>\n",
       "    <tr>\n",
       "      <th>4</th>\n",
       "      <td>0.0</td>\n",
       "    </tr>\n",
       "  </tbody>\n",
       "</table>\n",
       "</div>"
      ],
      "text/plain": [
       "\n",
       "   outcome\n",
       "\u001b[1;36m0\u001b[0m      \u001b[1;36m0.0\u001b[0m\n",
       "\u001b[1;36m1\u001b[0m      \u001b[1;36m0.0\u001b[0m\n",
       "\u001b[1;36m2\u001b[0m      \u001b[1;36m0.0\u001b[0m\n",
       "\u001b[1;36m3\u001b[0m      \u001b[1;36m1.0\u001b[0m\n",
       "\u001b[1;36m4\u001b[0m      \u001b[1;36m0.0\u001b[0m"
      ]
     },
     "execution_count": 2,
     "metadata": {},
     "output_type": "execute_result"
    }
   ],
   "source": [
    "# y_test\n",
    "y_test = pd.read_pickle(\"../data/07_model_output/y_test_for_eval.pkl\")\n",
    "y_test.head(5)"
   ]
  },
  {
   "cell_type": "code",
   "execution_count": 3,
   "id": "d57ffc00-c8e5-4f41-9c90-bcfcd4e6e192",
   "metadata": {},
   "outputs": [
    {
     "data": {
      "text/html": [
       "<pre style=\"white-space:pre;overflow-x:auto;line-height:normal;font-family:Menlo,'DejaVu Sans Mono',consolas,'Courier New',monospace\"></pre>\n"
      ],
      "text/plain": []
     },
     "metadata": {},
     "output_type": "display_data"
    },
    {
     "data": {
      "text/plain": [
       "\n",
       "\u001b[1;36m0\u001b[0m    \u001b[1;36m1.0\u001b[0m\n",
       "\u001b[1;36m1\u001b[0m    \u001b[1;36m0.0\u001b[0m\n",
       "\u001b[1;36m2\u001b[0m    \u001b[1;36m0.0\u001b[0m\n",
       "\u001b[1;36m3\u001b[0m    \u001b[1;36m0.0\u001b[0m\n",
       "\u001b[1;36m4\u001b[0m    \u001b[1;36m0.0\u001b[0m\n",
       "dtype: float64"
      ]
     },
     "execution_count": 3,
     "metadata": {},
     "output_type": "execute_result"
    }
   ],
   "source": [
    "y_pred = pd.read_pickle(\"../data/07_model_output/y_pred_for_eval.pkl\")\n",
    "y_pred.head(5)"
   ]
  },
  {
   "cell_type": "code",
   "execution_count": 4,
   "id": "2c43a60d-57a5-4c7a-b455-f7badb104fd6",
   "metadata": {},
   "outputs": [
    {
     "name": "stdout",
     "output_type": "stream",
     "text": [
      "[[83 17]\n",
      " [26 28]]\n"
     ]
    }
   ],
   "source": [
    "cm = confusion_matrix(y_test, y_pred, labels=[0, 1])\n",
    "print(cm)"
   ]
  },
  {
   "cell_type": "code",
   "execution_count": 23,
   "id": "e0a1c603-1722-4e06-9d40-f9bbf62a4df8",
   "metadata": {},
   "outputs": [],
   "source": [
    "import itertools\n",
    "import matplotlib.pyplot as plt\n",
    "from sklearn.metrics import confusion_matrix\n",
    "\n",
    "def plot_confusion_matrix(\n",
    "    y_test: pd.Series,\n",
    "    y_pred: pd.Series,\n",
    "    run_id: str\n",
    ") -> plt.Figure:\n",
    "    \"\"\"\n",
    "    Given true labels and predicted labels, draw a confusion-matrix heatmap\n",
    "    using imshow + text. Returns a Matplotlib Figure (dpi=300), including run_id in the title.\n",
    "    \"\"\"\n",
    "    # 1) Turn off interactive mode and close any old figures\n",
    "    plt.ioff()\n",
    "    plt.close(\"all\")\n",
    "\n",
    "    # 2) Compute the 2×2 confusion matrix\n",
    "    cm = confusion_matrix(y_test, y_pred, labels=[0, 1])\n",
    "\n",
    "    # 3) Create a high-DPI figure\n",
    "    fig, ax = plt.subplots(figsize=(4, 3), dpi=300)\n",
    "\n",
    "    # 4) Display with imshow to get full control (origin='upper' puts [0,0] in top-left)\n",
    "    im = ax.imshow(cm, interpolation=\"nearest\", cmap=\"Blues\", origin=\"upper\")\n",
    "\n",
    "    # 5) Annotate each cell with its integer value\n",
    "    for i, j in itertools.product(range(cm.shape[0]), range(cm.shape[1])):\n",
    "        ax.text(\n",
    "            j, i,               # column=j, row=i\n",
    "            f\"{cm[i, j]:d}\",    # the number\n",
    "            ha=\"center\", \n",
    "            va=\"center\",\n",
    "            color=\"white\" if cm[i, j] > cm.max() / 2 else \"black\"\n",
    "        )\n",
    "\n",
    "    # 6) Configure ticks and labels\n",
    "    ax.set_xticks([0, 1])\n",
    "    ax.set_yticks([0, 1])\n",
    "    ax.set_xticklabels([0, 1])\n",
    "    ax.set_yticklabels([0, 1])\n",
    "    ax.set_xlabel(\"Predicted\")\n",
    "    ax.set_ylabel(\"True\")\n",
    "    ax.set_title(f\"Confusion Matrix (run ID {run_id})\")\n",
    "\n",
    "    # 7) Ensure all cells are inside the axes\n",
    "    ax.set_xlim(-0.5, cm.shape[1] - 0.5)\n",
    "    ax.set_ylim(cm.shape[0] - 0.5, -0.5)\n",
    "\n",
    "    # 8) Tight layout (with a bit more bottom padding for labels)\n",
    "    fig.subplots_adjust(bottom=0.2)\n",
    "    fig.tight_layout()\n",
    "\n",
    "    # 9) Restore interactive mode\n",
    "    plt.ion()\n",
    "    return fig\n"
   ]
  },
  {
   "cell_type": "code",
   "execution_count": 24,
   "id": "0bedf2d0-fb10-4134-9335-b3591145b4cd",
   "metadata": {},
   "outputs": [
    {
     "data": {
      "text/html": [
       "<pre style=\"white-space:pre;overflow-x:auto;line-height:normal;font-family:Menlo,'DejaVu Sans Mono',consolas,'Courier New',monospace\"></pre>\n"
      ],
      "text/plain": []
     },
     "metadata": {},
     "output_type": "display_data"
    },
    {
     "data": {
      "image/png": "[encoded data removed]",
      "text/plain": [
       "\u001b[1m<\u001b[0m\u001b[1;95mFigure\u001b[0m\u001b[39m size 120\u001b[0m\u001b[1;36m0x900\u001b[0m\u001b[39m with \u001b[0m\u001b[1;36m1\u001b[0m\u001b[39m Axes\u001b[0m\u001b[1m>\u001b[0m"
      ]
     },
     "execution_count": 24,
     "metadata": {},
     "output_type": "execute_result"
    }
   ],
   "source": [
    "plot_confusion_matrix(y_test, y_pred, run_id=\"123\")"
   ]
  },
  {
   "cell_type": "code",
   "execution_count": null,
   "id": "53b4ea8c-7c56-4286-b419-10c1ae900a6f",
   "metadata": {},
   "outputs": [],
   "source": [
    "# src/pimapy/pipelines/logistic_regression/pipeline.py - pipeline node:\n",
    "(\n",
    "    func=plot_confusion_matrix,\n",
    "    inputs=[\n",
    "        \"y_test_for_eval\",\n",
    "        \"y_pred_for_eval\",\n",
    "        \"run_id\"\n",
    "    ],\n",
    "    outputs=\"lr_cm_fig\",   # Matplotlib Figure\n",
    "    name=\"plot_lr_confusion_matrix_node\",\n",
    "),"
   ]
  },
  {
   "cell_type": "code",
   "execution_count": null,
   "id": "57db03a7-917f-4ae4-82a8-939c226c148e",
   "metadata": {},
   "outputs": [],
   "source": [
    "tuned_rf_model = catalog.load(\"tuned_rf_model\")\n",
    "X_train = catalog.load(\"X_train\")"
   ]
  },
  {
   "cell_type": "code",
   "execution_count": null,
   "id": "20ea8f8f-6b8c-4876-987d-6893b9ea173a",
   "metadata": {},
   "outputs": [],
   "source": [
    " def plot_rf_feature_importance(\n",
    "    rf_pipeline: Pipeline,\n",
    "    X_train: pd.DataFrame\n",
    ") -> plt.Figure:\n",
    "    \"\"\"\n",
    "    Given a trained RandomForest pipeline (with step \"clf\") and the original\n",
    "    training DataFrame, extract feature importances and plot them in descending order.\n",
    "\n",
    "    Inputs:\n",
    "      - rf_pipeline: a fitted Pipeline whose final step is a RandomForestClassifier\n",
    "      - X_train:     the DataFrame used to train (so we know column names)\n",
    "\n",
    "    Returns:\n",
    "      - fig: a Matplotlib Figure containing a horizontal barplot of importances\n",
    "    \"\"\"\n",
    "    # 1) Extract raw importances array from the fitted RF\n",
    "    rf_model = rf_pipeline.named_steps[\"clf\"]\n",
    "    importances = rf_model.feature_importances_\n",
    "    \n",
    "    # 2) Build a DataFrame mapping feature → importance\n",
    "    feature_names = list(X_train.columns)\n",
    "    df_imp = pd.DataFrame({\n",
    "        \"feature\": feature_names,\n",
    "        \"importance\": importances\n",
    "    })\n",
    "    \n",
    "    # 3) Sort in descending order\n",
    "    df_imp = df_imp.sort_values(by=\"importance\", ascending=False).reset_index(drop=True)\n",
    "    \n",
    "    # 4) Create a figure that's tall enough to accommodate all features\n",
    "    height = max(2, 0.3 * len(feature_names))\n",
    "    fig, ax = plt.subplots(figsize=(6, height), dpi=300)\n",
    "    plt.close(fig)\n",
    "    # 5) Draw a horizontal barplot\n",
    "    sns.barplot(\n",
    "        x=\"importance\",\n",
    "        y=\"feature\",\n",
    "        data=df_imp,\n",
    "        ax=ax,\n",
    "        palette=\"viridis\"\n",
    "    )\n",
    "    ax.set_title(\"Random Forest Feature Importances\", pad=10)\n",
    "    ax.set_xlabel(\"Importance (mean decrease in impurity)\")\n",
    "    ax.set_ylabel(\"\")\n",
    "    \n",
    "    fig.tight_layout()\n",
    "    return fig"
   ]
  },
  {
   "cell_type": "code",
   "execution_count": null,
   "id": "b99c167b-8cf4-460a-8fef-43ac63200afc",
   "metadata": {},
   "outputs": [],
   "source": [
    "plot_rf_feature_importance(tuned_rf_model, X_train)"
   ]
  },
  {
   "cell_type": "code",
   "execution_count": null,
   "id": "56dbd298-5aaf-4a79-ac41-8f3b6c5c9289",
   "metadata": {},
   "outputs": [],
   "source": []
  }
 ],
 "metadata": {
  "kernelspec": {
   "display_name": "Kedro (pimapy)",
   "language": "python",
   "name": "kedro_pimapy"
  },
  "language_info": {
   "codemirror_mode": {
    "name": "ipython",
    "version": 3
   },
   "file_extension": ".py",
   "mimetype": "text/x-python",
   "name": "python",
   "nbconvert_exporter": "python",
   "pygments_lexer": "ipython3",
   "version": "3.12.9"
  }
 },
 "nbformat": 4,
 "nbformat_minor": 5
}
